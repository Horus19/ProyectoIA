{
  "nbformat": 4,
  "nbformat_minor": 0,
  "metadata": {
    "colab": {
      "name": "Final_Notebook.ipynb",
      "provenance": [],
      "collapsed_sections": []
    },
    "kernelspec": {
      "name": "python3",
      "display_name": "Python 3"
    },
    "language_info": {
      "name": "python"
    }
  },
  "cells": [
    {
      "cell_type": "code",
      "metadata": {
        "id": "Dm9MSxx2jmC5"
      },
      "source": [
        "import os\n",
        "from google.colab import drive\n",
        "drive.mount('/content/drive')\n",
        "os.chdir('/content/drive/My Drive/Semestre 7/IA-1/Proyecto')\n",
        "print(os.getcwd())"
      ],
      "execution_count": null,
      "outputs": []
    },
    {
      "cell_type": "code",
      "metadata": {
        "colab": {
          "base_uri": "https://localhost:8080/"
        },
        "id": "iN9Iio5a1eZB",
        "outputId": "d8a4172b-876f-41c9-fb8a-3de004b1c042"
      },
      "source": [
        "import os\n",
        "from google.colab import drive\n",
        "drive.mount('/content/drive')\n",
        "os.chdir('/content/drive/My Drive/Proyecto')\n",
        "print(os.getcwd())"
      ],
      "execution_count": 1,
      "outputs": [
        {
          "output_type": "stream",
          "name": "stdout",
          "text": [
            "Mounted at /content/drive\n",
            "/content/drive/.shortcut-targets-by-id/12zgLki7fKSS9VM6nUeL-XJAsg0H4ZYRS/Proyecto\n"
          ]
        }
      ]
    },
    {
      "cell_type": "markdown",
      "metadata": {
        "id": "j_zuzCrwIV_H"
      },
      "source": [
        "#Importing Libraries"
      ]
    },
    {
      "cell_type": "code",
      "metadata": {
        "id": "yUnKKPGQHBTY",
        "cellView": "form"
      },
      "source": [
        "#@title Librerias\n",
        "import pandas as pd\n",
        "import numpy as np\n",
        "import seaborn as sns\n",
        "import matplotlib.pyplot as plt\n",
        "import glob\n",
        "from math import floor\n",
        "import tensorflow as tf\n",
        "from tensorflow import keras\n",
        "from sklearn.model_selection import train_test_split\n",
        "from sklearn.metrics import mean_squared_error\n",
        "from sklearn.model_selection import cross_val_score, train_test_split\n",
        "from sklearn.metrics import *\n",
        "from sklearn.model_selection import KFold"
      ],
      "execution_count": 2,
      "outputs": []
    },
    {
      "cell_type": "markdown",
      "metadata": {
        "id": "rE6OTgL3IYuF"
      },
      "source": [
        "#Reading the data"
      ]
    },
    {
      "cell_type": "code",
      "metadata": {
        "id": "jHMy6AWlHaB-",
        "cellView": "form"
      },
      "source": [
        "#@title Leyendo el dataset\n",
        "path='./Files/Data/Oficial'\n",
        "all_files = glob.glob(path + \"/*.csv\")\n",
        "\n",
        "li = []\n",
        "\n",
        "for filename in all_files:\n",
        "    df = pd.read_csv(filename, index_col=None, header=0)\n",
        "    li.append(df)\n",
        "\n",
        "df = pd.concat(li, axis=0, ignore_index=True)"
      ],
      "execution_count": 3,
      "outputs": []
    },
    {
      "cell_type": "code",
      "metadata": {
        "colab": {
          "base_uri": "https://localhost:8080/"
        },
        "id": "nArgoREDH_vj",
        "cellView": "form",
        "outputId": "18e47c78-8dd6-428f-9d14-741ac94c43b8"
      },
      "source": [
        "#@title Dataset\n",
        "print(\"Head:\")\n",
        "print(df.head())\n",
        "print(\"\\n Stats:\")\n",
        "print(df.describe())\n",
        "print(\"\\n Shape:\")\n",
        "print(df.shape)\n",
        "print(\"\\n Add_info:\")\n",
        "print(df.info())\n"
      ],
      "execution_count": 4,
      "outputs": [
        {
          "output_type": "stream",
          "name": "stdout",
          "text": [
            "Head:\n",
            "         Date      Open      High       Low     Close\n",
            "0  04/21/2021  4,128.42  4,175.02  4,126.35  4,173.42\n",
            "1  04/20/2021  4,159.18  4,159.18  4,118.38  4,134.94\n",
            "2  04/19/2021  4,179.80  4,180.81  4,150.47  4,163.26\n",
            "3  04/16/2021  4,174.14  4,191.31  4,170.75  4,185.47\n",
            "4  04/15/2021  4,139.76  4,173.49  4,139.76  4,170.42\n",
            "\n",
            " Stats:\n",
            "              Date      Open      High       Low     Close\n",
            "count         2521      2521      2521      2521      2521\n",
            "unique        2516      2495      2497      2503      2503\n",
            "top     04/21/2014  2,102.82  2,109.64  2,041.88  2,723.06\n",
            "freq             2         2         2         3         2\n",
            "\n",
            " Shape:\n",
            "(2521, 5)\n",
            "\n",
            " Add_info:\n",
            "<class 'pandas.core.frame.DataFrame'>\n",
            "RangeIndex: 2521 entries, 0 to 2520\n",
            "Data columns (total 5 columns):\n",
            " #   Column  Non-Null Count  Dtype \n",
            "---  ------  --------------  ----- \n",
            " 0   Date    2521 non-null   object\n",
            " 1   Open    2521 non-null   object\n",
            " 2   High    2521 non-null   object\n",
            " 3   Low     2521 non-null   object\n",
            " 4   Close   2521 non-null   object\n",
            "dtypes: object(5)\n",
            "memory usage: 98.6+ KB\n",
            "None\n"
          ]
        }
      ]
    },
    {
      "cell_type": "markdown",
      "metadata": {
        "id": "24fS3R4vIQqx"
      },
      "source": [
        "#PreProcesing Data"
      ]
    },
    {
      "cell_type": "markdown",
      "metadata": {
        "id": "U9YjR2gnLNE-"
      },
      "source": [
        "In order to convert the data of the dataframe to numerically manipulable, the commas must be removed as the '/' character to convert the date column into date_time pandas format."
      ]
    },
    {
      "cell_type": "code",
      "metadata": {
        "id": "ndCgWWielS0z"
      },
      "source": [
        "df.replace(',','',regex=True, inplace=True)\n",
        "df.replace('/','',regex=True, inplace=True)"
      ],
      "execution_count": 5,
      "outputs": []
    },
    {
      "cell_type": "code",
      "metadata": {
        "id": "HfFaxRqClOAU"
      },
      "source": [
        "df.High=df.High.astype('float32')\n",
        "df.Low=df.Low.astype('float32')\n",
        "df.Open=df.Open.astype('float32')\n",
        "df.Close=df.Close.astype('float32')\n",
        "df['Date'] = pd.to_datetime(df['Date'],format='%m%d%Y')"
      ],
      "execution_count": 6,
      "outputs": []
    },
    {
      "cell_type": "markdown",
      "metadata": {
        "id": "Vq-XCdFJih_e"
      },
      "source": [
        "Now with the data ready to manipulate\n",
        "Actually in $df$ there is a register of every day that $S_{\\text{&}}P500$ is open, about its high, minimum, opening and closing values. But as we can see the market capitalization of the index doesn't have uniform an linear changes over the time."
      ]
    },
    {
      "cell_type": "code",
      "metadata": {
        "colab": {
          "base_uri": "https://localhost:8080/",
          "height": 496
        },
        "id": "MvN0QP-OOyvx",
        "outputId": "fc819d8f-02cb-49c7-f35f-100af66a6d5a"
      },
      "source": [
        "fig, axes = plt.subplots(2, 2, figsize=(13, 7), sharey=True)\n",
        "fig.suptitle('S&P500 Open, Close, High and Low Charts')\n",
        "\n",
        "axes[0,0].plot(df.Date,df.Open,color='blue')\n",
        "axes[0,1].plot(df.Date,df.Close,color='black')\n",
        "axes[1,0].plot(df.Date,df.High,color='green')\n",
        "axes[1,1].plot(df.Date,df.Low,color='red')"
      ],
      "execution_count": 7,
      "outputs": [
        {
          "output_type": "execute_result",
          "data": {
            "text/plain": [
              "[<matplotlib.lines.Line2D at 0x7fdd505035d0>]"
            ]
          },
          "metadata": {},
          "execution_count": 7
        },
        {
          "output_type": "display_data",
          "data": {
            "image/png": "[encoded data removed]",
            "text/plain": [
              "<Figure size 936x504 with 4 Axes>"
            ]
          },
          "metadata": {
            "needs_background": "light"
          }
        }
      ]
    },
    {
      "cell_type": "markdown",
      "metadata": {
        "id": "V6Vv3ROZmYQl"
      },
      "source": [
        "In order to make a better analysis, we decide to get and use relative values to be processed by the model. So:\n",
        "\n",
        "Let $h$ be the highest price value in the day, $l$ be the lowest , $o$ the opening price and $c$ the closing price. \n",
        "<center>\n",
        "\n",
        "\n",
        "Then we can define the relative volatility as:\n",
        "\n",
        "\n",
        " $v_r=\\frac{h-l}{o}$  \n",
        "\n",
        "and the relative displacement as:\n",
        "\n",
        "$d_r=\\frac{c-o}{o}$"
      ]
    },
    {
      "cell_type": "code",
      "metadata": {
        "colab": {
          "base_uri": "https://localhost:8080/",
          "height": 203
        },
        "id": "50LFPuxrIOmh",
        "outputId": "57dafc80-1845-4094-8779-67d58ae02318"
      },
      "source": [
        "df['Volatility']= (df.High - df.Low)/df.Open\n",
        "df['Displacement']= (df.Close - df.Open)/df.Open\n",
        "df.head()"
      ],
      "execution_count": 8,
      "outputs": [
        {
          "output_type": "execute_result",
          "data": {
            "text/html": [
              "<div>\n",
              "<style scoped>\n",
              "    .dataframe tbody tr th:only-of-type {\n",
              "        vertical-align: middle;\n",
              "    }\n",
              "\n",
              "    .dataframe tbody tr th {\n",
              "        vertical-align: top;\n",
              "    }\n",
              "\n",
              "    .dataframe thead th {\n",
              "        text-align: right;\n",
              "    }\n",
              "</style>\n",
              "<table border=\"1\" class=\"dataframe\">\n",
              "  <thead>\n",
              "    <tr style=\"text-align: right;\">\n",
              "      <th></th>\n",
              "      <th>Date</th>\n",
              "      <th>Open</th>\n",
              "      <th>High</th>\n",
              "      <th>Low</th>\n",
              "      <th>Close</th>\n",
              "      <th>Volatility</th>\n",
              "      <th>Displacement</th>\n",
              "    </tr>\n",
              "  </thead>\n",
              "  <tbody>\n",
              "    <tr>\n",
              "      <th>0</th>\n",
              "      <td>2021-04-21</td>\n",
              "      <td>4128.419922</td>\n",
              "      <td>4175.020020</td>\n",
              "      <td>4126.350098</td>\n",
              "      <td>4173.419922</td>\n",
              "      <td>0.011789</td>\n",
              "      <td>0.010900</td>\n",
              "    </tr>\n",
              "    <tr>\n",
              "      <th>1</th>\n",
              "      <td>2021-04-20</td>\n",
              "      <td>4159.180176</td>\n",
              "      <td>4159.180176</td>\n",
              "      <td>4118.379883</td>\n",
              "      <td>4134.939941</td>\n",
              "      <td>0.009810</td>\n",
              "      <td>-0.005828</td>\n",
              "    </tr>\n",
              "    <tr>\n",
              "      <th>2</th>\n",
              "      <td>2021-04-19</td>\n",
              "      <td>4179.799805</td>\n",
              "      <td>4180.810059</td>\n",
              "      <td>4150.470215</td>\n",
              "      <td>4163.259766</td>\n",
              "      <td>0.007259</td>\n",
              "      <td>-0.003957</td>\n",
              "    </tr>\n",
              "    <tr>\n",
              "      <th>3</th>\n",
              "      <td>2021-04-16</td>\n",
              "      <td>4174.140137</td>\n",
              "      <td>4191.310059</td>\n",
              "      <td>4170.750000</td>\n",
              "      <td>4185.470215</td>\n",
              "      <td>0.004926</td>\n",
              "      <td>0.002714</td>\n",
              "    </tr>\n",
              "    <tr>\n",
              "      <th>4</th>\n",
              "      <td>2021-04-15</td>\n",
              "      <td>4139.759766</td>\n",
              "      <td>4173.490234</td>\n",
              "      <td>4139.759766</td>\n",
              "      <td>4170.419922</td>\n",
              "      <td>0.008148</td>\n",
              "      <td>0.007406</td>\n",
              "    </tr>\n",
              "  </tbody>\n",
              "</table>\n",
              "</div>"
            ],
            "text/plain": [
              "        Date         Open         High  ...        Close  Volatility  Displacement\n",
              "0 2021-04-21  4128.419922  4175.020020  ...  4173.419922    0.011789      0.010900\n",
              "1 2021-04-20  4159.180176  4159.180176  ...  4134.939941    0.009810     -0.005828\n",
              "2 2021-04-19  4179.799805  4180.810059  ...  4163.259766    0.007259     -0.003957\n",
              "3 2021-04-16  4174.140137  4191.310059  ...  4185.470215    0.004926      0.002714\n",
              "4 2021-04-15  4139.759766  4173.490234  ...  4170.419922    0.008148      0.007406\n",
              "\n",
              "[5 rows x 7 columns]"
            ]
          },
          "metadata": {},
          "execution_count": 8
        }
      ]
    },
    {
      "cell_type": "markdown",
      "metadata": {
        "id": "-l5Fj-LYI2Lf"
      },
      "source": [
        "Now we have a complete dataset with relative volatility an displacement per day, so we're getting the slice of the data we're using to train our model.\n"
      ]
    },
    {
      "cell_type": "code",
      "metadata": {
        "colab": {
          "base_uri": "https://localhost:8080/",
          "height": 203
        },
        "id": "-kc4V3Q2JHM8",
        "outputId": "0df1565d-267b-4899-d9a3-f9abfe4879ee"
      },
      "source": [
        "df1=df[['Date','Volatility','Displacement']] #Getting the frame\n",
        "df1=df1.sort_values('Date',ascending=True).reset_index(drop=True)#sorting values by date\n",
        "df1.head()"
      ],
      "execution_count": 9,
      "outputs": [
        {
          "output_type": "execute_result",
          "data": {
            "text/html": [
              "<div>\n",
              "<style scoped>\n",
              "    .dataframe tbody tr th:only-of-type {\n",
              "        vertical-align: middle;\n",
              "    }\n",
              "\n",
              "    .dataframe tbody tr th {\n",
              "        vertical-align: top;\n",
              "    }\n",
              "\n",
              "    .dataframe thead th {\n",
              "        text-align: right;\n",
              "    }\n",
              "</style>\n",
              "<table border=\"1\" class=\"dataframe\">\n",
              "  <thead>\n",
              "    <tr style=\"text-align: right;\">\n",
              "      <th></th>\n",
              "      <th>Date</th>\n",
              "      <th>Volatility</th>\n",
              "      <th>Displacement</th>\n",
              "    </tr>\n",
              "  </thead>\n",
              "  <tbody>\n",
              "    <tr>\n",
              "      <th>0</th>\n",
              "      <td>2011-04-21</td>\n",
              "      <td>0.003495</td>\n",
              "      <td>0.003113</td>\n",
              "    </tr>\n",
              "    <tr>\n",
              "      <th>1</th>\n",
              "      <td>2011-04-25</td>\n",
              "      <td>0.004547</td>\n",
              "      <td>-0.001413</td>\n",
              "    </tr>\n",
              "    <tr>\n",
              "      <th>2</th>\n",
              "      <td>2011-04-26</td>\n",
              "      <td>0.009575</td>\n",
              "      <td>0.007847</td>\n",
              "    </tr>\n",
              "    <tr>\n",
              "      <th>3</th>\n",
              "      <td>2011-04-27</td>\n",
              "      <td>0.009819</td>\n",
              "      <td>0.005362</td>\n",
              "    </tr>\n",
              "    <tr>\n",
              "      <th>4</th>\n",
              "      <td>2011-04-28</td>\n",
              "      <td>0.005990</td>\n",
              "      <td>0.004890</td>\n",
              "    </tr>\n",
              "  </tbody>\n",
              "</table>\n",
              "</div>"
            ],
            "text/plain": [
              "        Date  Volatility  Displacement\n",
              "0 2011-04-21    0.003495      0.003113\n",
              "1 2011-04-25    0.004547     -0.001413\n",
              "2 2011-04-26    0.009575      0.007847\n",
              "3 2011-04-27    0.009819      0.005362\n",
              "4 2011-04-28    0.005990      0.004890"
            ]
          },
          "metadata": {},
          "execution_count": 9
        }
      ]
    },
    {
      "cell_type": "markdown",
      "metadata": {
        "id": "q_psEzwrJz2m"
      },
      "source": [
        "#Reshaping the data \n",
        "The general idea of this project is to use relative values (displacement and volatility) of a given number of days to make a prediction about the next day. So to make a proper reshape of the data there is the problem of knowing how many days we should be using for the prediction. As a possible solution, we suggest analyzing the correlation between the mean of both displacement and volatility for different \"windows\" of days, contrasting it with the displacement of the day to be predicted."
      ]
    },
    {
      "cell_type": "markdown",
      "metadata": {
        "id": "msthYz6oaM07"
      },
      "source": [
        "Firstofall we must get the \"Tomorrow Displacement\" column"
      ]
    },
    {
      "cell_type": "code",
      "metadata": {
        "id": "E_d3p7qfifBE",
        "colab": {
          "base_uri": "https://localhost:8080/",
          "height": 203
        },
        "outputId": "b35f4ac9-2c63-4762-e3de-a907e0c76e4a"
      },
      "source": [
        "df2=pd.DataFrame(df1)\n",
        "df2['TomorrowDisp']=df1[1:]['Displacement'].reset_index(drop=True) #Reset index is used to prevent columns from being concatenated using the index as a \"key\"\n",
        "df2.tail()# The last day must not have a \"tomorrow\""
      ],
      "execution_count": 10,
      "outputs": [
        {
          "output_type": "execute_result",
          "data": {
            "text/html": [
              "<div>\n",
              "<style scoped>\n",
              "    .dataframe tbody tr th:only-of-type {\n",
              "        vertical-align: middle;\n",
              "    }\n",
              "\n",
              "    .dataframe tbody tr th {\n",
              "        vertical-align: top;\n",
              "    }\n",
              "\n",
              "    .dataframe thead th {\n",
              "        text-align: right;\n",
              "    }\n",
              "</style>\n",
              "<table border=\"1\" class=\"dataframe\">\n",
              "  <thead>\n",
              "    <tr style=\"text-align: right;\">\n",
              "      <th></th>\n",
              "      <th>Date</th>\n",
              "      <th>Volatility</th>\n",
              "      <th>Displacement</th>\n",
              "      <th>TomorrowDisp</th>\n",
              "    </tr>\n",
              "  </thead>\n",
              "  <tbody>\n",
              "    <tr>\n",
              "      <th>2516</th>\n",
              "      <td>2021-04-15</td>\n",
              "      <td>0.008148</td>\n",
              "      <td>0.007406</td>\n",
              "      <td>0.002714</td>\n",
              "    </tr>\n",
              "    <tr>\n",
              "      <th>2517</th>\n",
              "      <td>2021-04-16</td>\n",
              "      <td>0.004926</td>\n",
              "      <td>0.002714</td>\n",
              "      <td>-0.003957</td>\n",
              "    </tr>\n",
              "    <tr>\n",
              "      <th>2518</th>\n",
              "      <td>2021-04-19</td>\n",
              "      <td>0.007259</td>\n",
              "      <td>-0.003957</td>\n",
              "      <td>-0.005828</td>\n",
              "    </tr>\n",
              "    <tr>\n",
              "      <th>2519</th>\n",
              "      <td>2021-04-20</td>\n",
              "      <td>0.009810</td>\n",
              "      <td>-0.005828</td>\n",
              "      <td>0.010900</td>\n",
              "    </tr>\n",
              "    <tr>\n",
              "      <th>2520</th>\n",
              "      <td>2021-04-21</td>\n",
              "      <td>0.011789</td>\n",
              "      <td>0.010900</td>\n",
              "      <td>NaN</td>\n",
              "    </tr>\n",
              "  </tbody>\n",
              "</table>\n",
              "</div>"
            ],
            "text/plain": [
              "           Date  Volatility  Displacement  TomorrowDisp\n",
              "2516 2021-04-15    0.008148      0.007406      0.002714\n",
              "2517 2021-04-16    0.004926      0.002714     -0.003957\n",
              "2518 2021-04-19    0.007259     -0.003957     -0.005828\n",
              "2519 2021-04-20    0.009810     -0.005828      0.010900\n",
              "2520 2021-04-21    0.011789      0.010900           NaN"
            ]
          },
          "metadata": {},
          "execution_count": 10
        }
      ]
    },
    {
      "cell_type": "code",
      "metadata": {
        "id": "qWS6Vi9bACf-"
      },
      "source": [
        "df2=df2[0:2520][:]"
      ],
      "execution_count": 11,
      "outputs": []
    },
    {
      "cell_type": "markdown",
      "metadata": {
        "id": "2Tgiq_SY_0so"
      },
      "source": [
        "#Correlation Vector"
      ]
    },
    {
      "cell_type": "markdown",
      "metadata": {
        "id": "WkoiB035JT1i"
      },
      "source": [
        "\n",
        "\n",
        "\n",
        "Having the following matrix\n",
        "<center>\n",
        "$M =\\begin{bmatrix} D_1&D_2&...&D_{n-1}&D_n\\\\D_2&D_3&...&D_n&D_{n+1}\\\\.&.&.&.&.\n",
        "\\\\.&.&.&.&.\\\\D_{t-n+1} & D_{t-n+2} & ... &D_{t-1} &D_t \\end{bmatrix};$\n",
        "\n",
        "\n",
        "Made as :\n",
        "\n",
        "$M =\\begin{bmatrix} M_1&M_2&...&M_{n-1}&M_n \\end{bmatrix}$\n",
        "</center>\n",
        "\n",
        "\n",
        "Where\n",
        "\n",
        "$D_i$: is the data of the day $i$ given by $\\begin{bmatrix} d_r & v_r  \\end{bmatrix}_i$ (in this case).\n",
        "\n",
        "$n$:is the number of days to analyze per row\n",
        "\n",
        "$t$:is the total of days in the dataset\n",
        "\n",
        "\n",
        "We must find de correlation of each one of $[M_1,M_2,...,M_{n-1}]$ with $M_n$ for different $n$ values, this way we get a correlation vector defined as:\n",
        "\n",
        "\n",
        "$V=\\begin{bmatrix} \\rho(M_1,M_n) & \\rho(M_2,M_n) &...& \\rho(M_{n-1},M_n)\\end{bmatrix}$\n",
        "\n",
        "\n",
        "And to compare for different n values we are using the following metric:\n",
        "\n",
        "$m=\\frac{\\|V\\|_1}{n} $"
      ]
    },
    {
      "cell_type": "code",
      "metadata": {
        "id": "liAf0UGuaiET"
      },
      "source": [
        "windows=range(2,101,1) \n",
        "a=df1[['Displacement']].to_numpy()\n",
        "t=a.shape[0]"
      ],
      "execution_count": 12,
      "outputs": []
    },
    {
      "cell_type": "code",
      "metadata": {
        "id": "DEa6jXHo_ypS"
      },
      "source": [
        "yd=[]\n",
        "for n in windows: #where n is the number of total columns\n",
        "                  #being n the day to predict\n",
        "  a1=a[0:t-n,:]\n",
        "  for i in range(0,n,1):\n",
        "    a1=np.concatenate((a1,a[i+1:t-n+i+1,:]),axis=1)\n",
        "    if i==n-1: #al acabar de hacer la matriz, se debe sacar el vector de correlaciones\n",
        "      v=[]\n",
        "      for j in range(0,n-1,1):\n",
        "        v.append(np.correlate(a1[:,j],a1[:,n-1])) #Correlacion entre la ultima columna y la columna j\n",
        "  yd.append(np.mean(np.absolute(v)))\n"
      ],
      "execution_count": 13,
      "outputs": []
    },
    {
      "cell_type": "code",
      "metadata": {
        "id": "GotEmz1wBjUA"
      },
      "source": [
        "a=df1[['Volatility']].to_numpy()\n",
        "yv=[]\n",
        "for n in windows: #where n is the number of total columns\n",
        "                  #being n the day to predict\n",
        "  a1=a[0:t-n,:]\n",
        "  for i in range(0,n,1):\n",
        "    a1=np.concatenate((a1,a[i+1:t-n+i+1,:]),axis=1)\n",
        "    if i==n-1: #al acabar de hacer la matriz, se debe sacar el vector de correlaciones\n",
        "      v=[]\n",
        "      for j in range(0,n-1,1):\n",
        "        v.append(np.correlate(a1[:,j],a1[:,n-1])) #Correlacion entre la ultima columna y la columna j\n",
        "  yv.append(np.mean(np.absolute(v)))"
      ],
      "execution_count": 14,
      "outputs": []
    },
    {
      "cell_type": "code",
      "metadata": {
        "colab": {
          "base_uri": "https://localhost:8080/",
          "height": 434
        },
        "id": "TIT_JpCwAdex",
        "cellView": "form",
        "outputId": "081440d4-de70-4e80-cd9a-6fbe8279deb6"
      },
      "source": [
        "#@title Autocorrelation vs Window Size\n",
        "fig,ax=plt.subplots(2,figsize=(8,6))\n",
        "fig.suptitle('Autocorrelation vs window size')\n",
        "ax[0].plot(windows,yd,'tab:orange',label='Displacement')\n",
        "ax[0].legend()\n",
        "ax[1].plot(windows,yv,label='Volatility')\n",
        "ax[1].legend()"
      ],
      "execution_count": 15,
      "outputs": [
        {
          "output_type": "execute_result",
          "data": {
            "text/plain": [
              "<matplotlib.legend.Legend at 0x7fdd4fe51790>"
            ]
          },
          "metadata": {},
          "execution_count": 15
        },
        {
          "output_type": "display_data",
          "data": {
            "image/png": "[encoded data removed]",
            "text/plain": [
              "<Figure size 576x432 with 2 Axes>"
            ]
          },
          "metadata": {
            "needs_background": "light"
          }
        }
      ]
    },
    {
      "cell_type": "markdown",
      "metadata": {
        "id": "wpSP5dTCZ_Hk"
      },
      "source": [
        "The results indicate that the fewer days the greater the magnitude of the correlation vector, however, as taking very few days of entry goes against the objective of the project, it has been decided to carry out tests for multiple windows in different models. Specifically from $n=3$ to $n=8$."
      ]
    },
    {
      "cell_type": "markdown",
      "metadata": {
        "id": "G23DhAvP_zSA"
      },
      "source": [
        "#Displacement (Mean) & TomorrowDisp correlation\n",
        "As an alternative of the previous process was suggested using the mean of the displacement/volatility of the $n-1$ days of entry to correlate it with the \"Tomorrow Displacement\" for different windows sizes. But it was also discarded as unique solution because it was considered that the mean of the relative displacement/volatility does not correctly represent the entire entry vector."
      ]
    },
    {
      "cell_type": "code",
      "metadata": {
        "id": "cMx180fKbpGM"
      },
      "source": [
        "x=np.arange(1,101,1)\n",
        "yd=[]\n",
        "yv=[]\n",
        "for xi in x:\n",
        "  yd.append(df2.Displacement.rolling(xi).mean().corr(other=df2.TomorrowDisp) )\n",
        "\n",
        "for xi in x:\n",
        "  yv.append(df2.Volatility.rolling(xi).mean().corr(other=df2.TomorrowDisp) )"
      ],
      "execution_count": 16,
      "outputs": []
    },
    {
      "cell_type": "code",
      "metadata": {
        "colab": {
          "base_uri": "https://localhost:8080/",
          "height": 296
        },
        "id": "CLxftS5fbyTX",
        "cellView": "form",
        "outputId": "a8ebc92d-8e70-4cc0-fc17-be070e148e83"
      },
      "source": [
        "#@title Numbre of Days vs Correlation\n",
        "plt.plot(x,yv,label='Volatility (mean)')\n",
        "plt.plot(x,yd,label='Displacement (mean)')\n",
        "plt.ylabel('Correlation')\n",
        "plt.xlabel('Number of Days')\n",
        "plt.legend()\n"
      ],
      "execution_count": 17,
      "outputs": [
        {
          "output_type": "execute_result",
          "data": {
            "text/plain": [
              "<matplotlib.legend.Legend at 0x7fdd4fd82c50>"
            ]
          },
          "metadata": {},
          "execution_count": 17
        },
        {
          "output_type": "display_data",
          "data": {
            "image/png": "[encoded data removed]",
            "text/plain": [
              "<Figure size 432x288 with 1 Axes>"
            ]
          },
          "metadata": {
            "needs_background": "light"
          }
        }
      ]
    },
    {
      "cell_type": "markdown",
      "metadata": {
        "id": "o6wlWICwhtuk"
      },
      "source": [
        "It is not very obvious, but the plot leads to suspect that the value we want is between 0 and 10. We must verify it using the following code:"
      ]
    },
    {
      "cell_type": "code",
      "metadata": {
        "colab": {
          "base_uri": "https://localhost:8080/"
        },
        "id": "BLg4mI7hhpv5",
        "outputId": "4056d4ea-21cb-42ac-83ea-fc99d367adb1"
      },
      "source": [
        "totalCorr=np.absolute(yv)+np.absolute(yd)\n",
        "n=np.argmax(totalCorr)+1 #Plus 1 because numpy array index starts in 0, and plus 1 because the window doesnt consider de day n\n",
        "n"
      ],
      "execution_count": 18,
      "outputs": [
        {
          "output_type": "execute_result",
          "data": {
            "text/plain": [
              "6"
            ]
          },
          "metadata": {},
          "execution_count": 18
        }
      ]
    },
    {
      "cell_type": "markdown",
      "metadata": {
        "id": "kB1tpImIdutH"
      },
      "source": [
        "Getting $n=6$ from this method"
      ]
    },
    {
      "cell_type": "markdown",
      "metadata": {
        "id": "J4jIAPigh5Pg"
      },
      "source": [
        "#Datasets with different shapes\n",
        "Now we must create the dataset shapes from $n=3$ to $n=8$"
      ]
    },
    {
      "cell_type": "code",
      "metadata": {
        "id": "fcUuaUPxi7XP"
      },
      "source": [
        "n_range=np.arange(3,9,1)\n",
        "dwl={} #Dictionary of pandas dataframes\n",
        "df = df.iloc[::-1].reset_index(drop=True)\n",
        "\n",
        "for n in n_range:\n",
        "  a=df[['Displacement','Volatility',\"Open\",\"Close\"]].to_numpy() #Array of each day features\n",
        "  #Si se quiere con precio de apertura, faltarian modificar columnas con a=df[['Displacement','Volatility','Open']].to_numpy()\n",
        "  t=a.shape[0]\n",
        "  a1=a[0:t-n,:] #Total number of days\n",
        "  for i in range(0,n,1):\n",
        "    a1=np.concatenate((a1,a[i+1:t-n+i+1,:]),axis=1)\n",
        "  \n",
        "  #Create the columns\n",
        "  cols=[\"Close\",\"Open\",\"V_p\",\"D_p\"]\n",
        "  contador=0\n",
        "  for i in range(0,a1[0].size-4,1):\n",
        "    cols.append(\"C\"+str(contador))\n",
        "    #if (contador % 2) == 0:\n",
        "     #cols.append('V'+str(int(contador/2)))\n",
        "    #else:\n",
        "      #cols.append('D'+str(int(contador/2 - 0.5)))\n",
        "    contador+=1\n",
        "  cols.reverse()\n",
        "  last_df=pd.DataFrame(a1[:-1,:],columns=cols) #The final data_set\n",
        "  dwl[n]=last_df"
      ],
      "execution_count": 19,
      "outputs": []
    },
    {
      "cell_type": "code",
      "metadata": {
        "colab": {
          "base_uri": "https://localhost:8080/",
          "height": 234
        },
        "id": "4ZQo1TvsTi0E",
        "outputId": "cd85febb-c8b4-4872-c83a-14c42493d409"
      },
      "source": [
        "df.head(6)"
      ],
      "execution_count": 20,
      "outputs": [
        {
          "output_type": "execute_result",
          "data": {
            "text/html": [
              "<div>\n",
              "<style scoped>\n",
              "    .dataframe tbody tr th:only-of-type {\n",
              "        vertical-align: middle;\n",
              "    }\n",
              "\n",
              "    .dataframe tbody tr th {\n",
              "        vertical-align: top;\n",
              "    }\n",
              "\n",
              "    .dataframe thead th {\n",
              "        text-align: right;\n",
              "    }\n",
              "</style>\n",
              "<table border=\"1\" class=\"dataframe\">\n",
              "  <thead>\n",
              "    <tr style=\"text-align: right;\">\n",
              "      <th></th>\n",
              "      <th>Date</th>\n",
              "      <th>Open</th>\n",
              "      <th>High</th>\n",
              "      <th>Low</th>\n",
              "      <th>Close</th>\n",
              "      <th>Volatility</th>\n",
              "      <th>Displacement</th>\n",
              "    </tr>\n",
              "  </thead>\n",
              "  <tbody>\n",
              "    <tr>\n",
              "      <th>0</th>\n",
              "      <td>2011-04-21</td>\n",
              "      <td>1333.229980</td>\n",
              "      <td>1337.489990</td>\n",
              "      <td>1332.829956</td>\n",
              "      <td>1337.380005</td>\n",
              "      <td>0.003495</td>\n",
              "      <td>0.003113</td>\n",
              "    </tr>\n",
              "    <tr>\n",
              "      <th>1</th>\n",
              "      <td>2011-04-25</td>\n",
              "      <td>1337.140015</td>\n",
              "      <td>1337.550049</td>\n",
              "      <td>1331.469971</td>\n",
              "      <td>1335.250000</td>\n",
              "      <td>0.004547</td>\n",
              "      <td>-0.001413</td>\n",
              "    </tr>\n",
              "    <tr>\n",
              "      <th>2</th>\n",
              "      <td>2011-04-26</td>\n",
              "      <td>1336.750000</td>\n",
              "      <td>1349.550049</td>\n",
              "      <td>1336.750000</td>\n",
              "      <td>1347.239990</td>\n",
              "      <td>0.009575</td>\n",
              "      <td>0.007847</td>\n",
              "    </tr>\n",
              "    <tr>\n",
              "      <th>3</th>\n",
              "      <td>2011-04-27</td>\n",
              "      <td>1348.430054</td>\n",
              "      <td>1357.489990</td>\n",
              "      <td>1344.250000</td>\n",
              "      <td>1355.660034</td>\n",
              "      <td>0.009819</td>\n",
              "      <td>0.005362</td>\n",
              "    </tr>\n",
              "    <tr>\n",
              "      <th>4</th>\n",
              "      <td>2011-04-28</td>\n",
              "      <td>1353.859985</td>\n",
              "      <td>1361.709961</td>\n",
              "      <td>1353.599976</td>\n",
              "      <td>1360.479980</td>\n",
              "      <td>0.005990</td>\n",
              "      <td>0.004890</td>\n",
              "    </tr>\n",
              "    <tr>\n",
              "      <th>5</th>\n",
              "      <td>2011-04-29</td>\n",
              "      <td>1360.140015</td>\n",
              "      <td>1364.560059</td>\n",
              "      <td>1358.689941</td>\n",
              "      <td>1363.609985</td>\n",
              "      <td>0.004316</td>\n",
              "      <td>0.002551</td>\n",
              "    </tr>\n",
              "  </tbody>\n",
              "</table>\n",
              "</div>"
            ],
            "text/plain": [
              "        Date         Open         High  ...        Close  Volatility  Displacement\n",
              "0 2011-04-21  1333.229980  1337.489990  ...  1337.380005    0.003495      0.003113\n",
              "1 2011-04-25  1337.140015  1337.550049  ...  1335.250000    0.004547     -0.001413\n",
              "2 2011-04-26  1336.750000  1349.550049  ...  1347.239990    0.009575      0.007847\n",
              "3 2011-04-27  1348.430054  1357.489990  ...  1355.660034    0.009819      0.005362\n",
              "4 2011-04-28  1353.859985  1361.709961  ...  1360.479980    0.005990      0.004890\n",
              "5 2011-04-29  1360.140015  1364.560059  ...  1363.609985    0.004316      0.002551\n",
              "\n",
              "[6 rows x 7 columns]"
            ]
          },
          "metadata": {},
          "execution_count": 20
        }
      ]
    },
    {
      "cell_type": "code",
      "metadata": {
        "colab": {
          "base_uri": "https://localhost:8080/",
          "height": 203
        },
        "id": "sDBllC9_kJQd",
        "outputId": "25b17547-9e4f-448e-c2f0-6652f2922930"
      },
      "source": [
        "dwl[3].head()"
      ],
      "execution_count": 21,
      "outputs": [
        {
          "output_type": "execute_result",
          "data": {
            "text/html": [
              "<div>\n",
              "<style scoped>\n",
              "    .dataframe tbody tr th:only-of-type {\n",
              "        vertical-align: middle;\n",
              "    }\n",
              "\n",
              "    .dataframe tbody tr th {\n",
              "        vertical-align: top;\n",
              "    }\n",
              "\n",
              "    .dataframe thead th {\n",
              "        text-align: right;\n",
              "    }\n",
              "</style>\n",
              "<table border=\"1\" class=\"dataframe\">\n",
              "  <thead>\n",
              "    <tr style=\"text-align: right;\">\n",
              "      <th></th>\n",
              "      <th>C11</th>\n",
              "      <th>C10</th>\n",
              "      <th>C9</th>\n",
              "      <th>C8</th>\n",
              "      <th>C7</th>\n",
              "      <th>C6</th>\n",
              "      <th>C5</th>\n",
              "      <th>C4</th>\n",
              "      <th>C3</th>\n",
              "      <th>C2</th>\n",
              "      <th>C1</th>\n",
              "      <th>C0</th>\n",
              "      <th>D_p</th>\n",
              "      <th>V_p</th>\n",
              "      <th>Open</th>\n",
              "      <th>Close</th>\n",
              "    </tr>\n",
              "  </thead>\n",
              "  <tbody>\n",
              "    <tr>\n",
              "      <th>0</th>\n",
              "      <td>0.003113</td>\n",
              "      <td>0.003495</td>\n",
              "      <td>1333.229980</td>\n",
              "      <td>1337.380005</td>\n",
              "      <td>-0.001413</td>\n",
              "      <td>0.004547</td>\n",
              "      <td>1337.140015</td>\n",
              "      <td>1335.250000</td>\n",
              "      <td>0.007847</td>\n",
              "      <td>0.009575</td>\n",
              "      <td>1336.750000</td>\n",
              "      <td>1347.239990</td>\n",
              "      <td>0.005362</td>\n",
              "      <td>0.009819</td>\n",
              "      <td>1348.430054</td>\n",
              "      <td>1355.660034</td>\n",
              "    </tr>\n",
              "    <tr>\n",
              "      <th>1</th>\n",
              "      <td>-0.001413</td>\n",
              "      <td>0.004547</td>\n",
              "      <td>1337.140015</td>\n",
              "      <td>1335.250000</td>\n",
              "      <td>0.007847</td>\n",
              "      <td>0.009575</td>\n",
              "      <td>1336.750000</td>\n",
              "      <td>1347.239990</td>\n",
              "      <td>0.005362</td>\n",
              "      <td>0.009819</td>\n",
              "      <td>1348.430054</td>\n",
              "      <td>1355.660034</td>\n",
              "      <td>0.004890</td>\n",
              "      <td>0.005990</td>\n",
              "      <td>1353.859985</td>\n",
              "      <td>1360.479980</td>\n",
              "    </tr>\n",
              "    <tr>\n",
              "      <th>2</th>\n",
              "      <td>0.007847</td>\n",
              "      <td>0.009575</td>\n",
              "      <td>1336.750000</td>\n",
              "      <td>1347.239990</td>\n",
              "      <td>0.005362</td>\n",
              "      <td>0.009819</td>\n",
              "      <td>1348.430054</td>\n",
              "      <td>1355.660034</td>\n",
              "      <td>0.004890</td>\n",
              "      <td>0.005990</td>\n",
              "      <td>1353.859985</td>\n",
              "      <td>1360.479980</td>\n",
              "      <td>0.002551</td>\n",
              "      <td>0.004316</td>\n",
              "      <td>1360.140015</td>\n",
              "      <td>1363.609985</td>\n",
              "    </tr>\n",
              "    <tr>\n",
              "      <th>3</th>\n",
              "      <td>0.005362</td>\n",
              "      <td>0.009819</td>\n",
              "      <td>1348.430054</td>\n",
              "      <td>1355.660034</td>\n",
              "      <td>0.004890</td>\n",
              "      <td>0.005990</td>\n",
              "      <td>1353.859985</td>\n",
              "      <td>1360.479980</td>\n",
              "      <td>0.002551</td>\n",
              "      <td>0.004316</td>\n",
              "      <td>1360.140015</td>\n",
              "      <td>1363.609985</td>\n",
              "      <td>-0.002923</td>\n",
              "      <td>0.008783</td>\n",
              "      <td>1365.209961</td>\n",
              "      <td>1361.219971</td>\n",
              "    </tr>\n",
              "    <tr>\n",
              "      <th>4</th>\n",
              "      <td>0.004890</td>\n",
              "      <td>0.005990</td>\n",
              "      <td>1353.859985</td>\n",
              "      <td>1360.479980</td>\n",
              "      <td>0.002551</td>\n",
              "      <td>0.004316</td>\n",
              "      <td>1360.140015</td>\n",
              "      <td>1363.609985</td>\n",
              "      <td>-0.002923</td>\n",
              "      <td>0.008783</td>\n",
              "      <td>1365.209961</td>\n",
              "      <td>1361.219971</td>\n",
              "      <td>-0.002309</td>\n",
              "      <td>0.008325</td>\n",
              "      <td>1359.760010</td>\n",
              "      <td>1356.619995</td>\n",
              "    </tr>\n",
              "  </tbody>\n",
              "</table>\n",
              "</div>"
            ],
            "text/plain": [
              "        C11       C10           C9  ...       V_p         Open        Close\n",
              "0  0.003113  0.003495  1333.229980  ...  0.009819  1348.430054  1355.660034\n",
              "1 -0.001413  0.004547  1337.140015  ...  0.005990  1353.859985  1360.479980\n",
              "2  0.007847  0.009575  1336.750000  ...  0.004316  1360.140015  1363.609985\n",
              "3  0.005362  0.009819  1348.430054  ...  0.008783  1365.209961  1361.219971\n",
              "4  0.004890  0.005990  1353.859985  ...  0.008325  1359.760010  1356.619995\n",
              "\n",
              "[5 rows x 16 columns]"
            ]
          },
          "metadata": {},
          "execution_count": 21
        }
      ]
    },
    {
      "cell_type": "markdown",
      "metadata": {
        "id": "72sIo-stvcYZ"
      },
      "source": [
        "##Now we're finding the best n for each regressor"
      ]
    },
    {
      "cell_type": "markdown",
      "metadata": {
        "id": "OkR9f-VBl0OT"
      },
      "source": [
        "##Decision Tree Regressor"
      ]
    },
    {
      "cell_type": "code",
      "metadata": {
        "id": "ZKjWjfgBlzZY"
      },
      "source": [
        "from sklearn.tree import DecisionTreeRegressor"
      ],
      "execution_count": 22,
      "outputs": []
    },
    {
      "cell_type": "code",
      "metadata": {
        "colab": {
          "base_uri": "https://localhost:8080/"
        },
        "id": "Cu-oRbitofKd",
        "outputId": "1e03320b-4cff-43d9-8658-e18f859697a3"
      },
      "source": [
        "v1=[]\n",
        "v2=[]\n",
        "for n in n_range:\n",
        "  X=dwl[n].iloc[:,:-4] #All data excepting the last 4 columns\n",
        "  y=dwl[n]['D_p']\n",
        "  model1 = DecisionTreeRegressor(criterion=\"mse\")\n",
        "  s = cross_val_score(model1, X, y, cv=KFold(10, shuffle=True), scoring=make_scorer(mean_squared_error))\n",
        "  mean_mse=np.mean(s)\n",
        "  sdev_mse=np.std(s)\n",
        "\n",
        "  v1.append(mean_mse)\n",
        "  v2.append(sdev_mse)\n",
        "  print(\"For window of size:\",n)\n",
        "  print (\"MSE: %.10f (+/- %.12f)\"%(mean_mse, sdev_mse))\n",
        "  print(\"\\n\")"
      ],
      "execution_count": 23,
      "outputs": [
        {
          "output_type": "stream",
          "name": "stdout",
          "text": [
            "For window of size: 3\n",
            "MSE: 0.0001754996 (+/- 0.000025120528)\n",
            "\n",
            "\n",
            "For window of size: 4\n",
            "MSE: 0.0001777726 (+/- 0.000044121092)\n",
            "\n",
            "\n",
            "For window of size: 5\n",
            "MSE: 0.0001728464 (+/- 0.000017275560)\n",
            "\n",
            "\n",
            "For window of size: 6\n",
            "MSE: 0.0001826871 (+/- 0.000028303150)\n",
            "\n",
            "\n",
            "For window of size: 7\n",
            "MSE: 0.0001764302 (+/- 0.000038456909)\n",
            "\n",
            "\n",
            "For window of size: 8\n",
            "MSE: 0.0001629734 (+/- 0.000013537569)\n",
            "\n",
            "\n"
          ]
        }
      ]
    },
    {
      "cell_type": "code",
      "metadata": {
        "colab": {
          "base_uri": "https://localhost:8080/",
          "height": 312
        },
        "id": "qb69a5DBmaL_",
        "cellView": "form",
        "outputId": "dde03815-ad16-4c48-b92d-82846442e0f1"
      },
      "source": [
        "#@title Grafica del MSE vs Window Size\n",
        "v1=np.array(v1)\n",
        "v2=np.array(v2)\n",
        "plt.title('Decision Tree Regressor')\n",
        "plt.plot(n_range,v1+v2,color='orange')\n",
        "plt.plot(n_range,v1)\n",
        "plt.plot(n_range,v1-v2,color='orange')\n",
        "plt.fill_between(n_range,v1+v2,v1-v2,alpha=0.2,color='orange')\n",
        "plt.xlabel('Window Size')\n",
        "plt.ylabel('MSE')"
      ],
      "execution_count": 24,
      "outputs": [
        {
          "output_type": "execute_result",
          "data": {
            "text/plain": [
              "Text(0, 0.5, 'MSE')"
            ]
          },
          "metadata": {},
          "execution_count": 24
        },
        {
          "output_type": "display_data",
          "data": {
            "image/png": "[encoded data removed]",
            "text/plain": [
              "<Figure size 432x288 with 1 Axes>"
            ]
          },
          "metadata": {
            "needs_background": "light"
          }
        }
      ]
    },
    {
      "cell_type": "markdown",
      "metadata": {
        "id": "Pv0yVxcvpuE4"
      },
      "source": [
        "##Random Forest Regressor"
      ]
    },
    {
      "cell_type": "code",
      "metadata": {
        "id": "8cpqn6rio0mR"
      },
      "source": [
        "from sklearn.ensemble import RandomForestRegressor"
      ],
      "execution_count": 25,
      "outputs": []
    },
    {
      "cell_type": "code",
      "metadata": {
        "colab": {
          "base_uri": "https://localhost:8080/"
        },
        "id": "j5pOr-abp_yL",
        "outputId": "a284aeb8-bc13-4d11-9a80-f401b95786ca"
      },
      "source": [
        "y1=[]\n",
        "y2=[]\n",
        "for n in n_range:\n",
        "  X=dwl[n].iloc[:,:-4] #All data excepting the last two columns\n",
        "  y=dwl[n]['D_p']\n",
        "  model2 = RandomForestRegressor(n_estimators=4*n)\n",
        "\n",
        "  s = cross_val_score(model2, X, y, cv=KFold(10, shuffle=True), scoring=make_scorer(mean_squared_error))\n",
        "\n",
        "  mean_mse=np.mean(s)\n",
        "  sdev_mse=np.std(s)\n",
        "\n",
        "  y1.append(mean_mse)\n",
        "  y2.append(sdev_mse)\n",
        "  print(\"For window of size:\",n)\n",
        "  print (\"MSE: %.10f (+/- %.12f)\"%(mean_mse, sdev_mse))\n",
        "  print(\"\\n\")"
      ],
      "execution_count": 26,
      "outputs": [
        {
          "output_type": "stream",
          "name": "stdout",
          "text": [
            "For window of size: 3\n",
            "MSE: 0.0000957175 (+/- 0.000020247294)\n",
            "\n",
            "\n",
            "For window of size: 4\n",
            "MSE: 0.0000984733 (+/- 0.000017707820)\n",
            "\n",
            "\n",
            "For window of size: 5\n",
            "MSE: 0.0000945063 (+/- 0.000017528001)\n",
            "\n",
            "\n",
            "For window of size: 6\n",
            "MSE: 0.0000960148 (+/- 0.000014095802)\n",
            "\n",
            "\n",
            "For window of size: 7\n",
            "MSE: 0.0000918008 (+/- 0.000010114442)\n",
            "\n",
            "\n",
            "For window of size: 8\n",
            "MSE: 0.0000909271 (+/- 0.000006492960)\n",
            "\n",
            "\n"
          ]
        }
      ]
    },
    {
      "cell_type": "code",
      "metadata": {
        "colab": {
          "base_uri": "https://localhost:8080/",
          "height": 312
        },
        "id": "84wgl5xhs0Jw",
        "cellView": "form",
        "outputId": "e448b42d-b967-4c78-ee18-059f18310b5a"
      },
      "source": [
        "#@title Grafica del MSE vs Window Size\n",
        "y1=np.array(y1)\n",
        "y2=np.array(y2)\n",
        "plt.title('Random Forest Regressor')\n",
        "plt.plot(n_range,y1+y2,color='orange')\n",
        "plt.plot(n_range,y1)\n",
        "plt.plot(n_range,y1-y2,color='orange')\n",
        "plt.fill_between(n_range,y1+y2,y1-y2,alpha=0.2,color='orange')\n",
        "plt.xlabel('Window Size')\n",
        "plt.ylabel('MSE')"
      ],
      "execution_count": 27,
      "outputs": [
        {
          "output_type": "execute_result",
          "data": {
            "text/plain": [
              "Text(0, 0.5, 'MSE')"
            ]
          },
          "metadata": {},
          "execution_count": 27
        },
        {
          "output_type": "display_data",
          "data": {
            "image/png": "[encoded data removed]",
            "text/plain": [
              "<Figure size 432x288 with 1 Axes>"
            ]
          },
          "metadata": {
            "needs_background": "light"
          }
        }
      ]
    },
    {
      "cell_type": "markdown",
      "metadata": {
        "id": "flpDFenq1Clu"
      },
      "source": [
        "#Support Vector Regressor"
      ]
    },
    {
      "cell_type": "code",
      "metadata": {
        "id": "aqWeXcBZ1TSL"
      },
      "source": [
        "from sklearn.svm import SVR"
      ],
      "execution_count": 28,
      "outputs": []
    },
    {
      "cell_type": "code",
      "metadata": {
        "colab": {
          "base_uri": "https://localhost:8080/"
        },
        "id": "oWQW0-R11Vue",
        "outputId": "1a124c7b-0ce4-412d-d8b4-321a7187c1b1"
      },
      "source": [
        "w1=[]\n",
        "w2=[]\n",
        "for n in n_range:\n",
        "  X=dwl[n].iloc[:,:-4]  #All data excepting the last two columns\n",
        "  y=dwl[n]['D_p']\n",
        "  model3 = SVR(kernel=\"sigmoid\")\n",
        "\n",
        "  s = cross_val_score(model3, X, y, cv=KFold(10, shuffle=True), scoring=make_scorer(mean_squared_error))\n",
        "\n",
        "  mean_mse=np.mean(s)\n",
        "  sdev_mse=np.std(s)\n",
        "\n",
        "  w1.append(mean_mse)\n",
        "  w2.append(sdev_mse)\n",
        "  print(\"For window of size:\",n)\n",
        "  print (\"MSE: %.10f (+/- %.12f)\"%(mean_mse, sdev_mse))\n",
        "  print(\"\\n\")"
      ],
      "execution_count": 29,
      "outputs": [
        {
          "output_type": "stream",
          "name": "stdout",
          "text": [
            "For window of size: 3\n",
            "MSE: 0.0001147924 (+/- 0.000010052876)\n",
            "\n",
            "\n",
            "For window of size: 4\n",
            "MSE: 0.0001156650 (+/- 0.000017273947)\n",
            "\n",
            "\n",
            "For window of size: 5\n",
            "MSE: 0.0001162708 (+/- 0.000017811032)\n",
            "\n",
            "\n",
            "For window of size: 6\n",
            "MSE: 0.0001147467 (+/- 0.000014893576)\n",
            "\n",
            "\n",
            "For window of size: 7\n",
            "MSE: 0.0001161238 (+/- 0.000018571406)\n",
            "\n",
            "\n",
            "For window of size: 8\n",
            "MSE: 0.0001155771 (+/- 0.000022239130)\n",
            "\n",
            "\n"
          ]
        }
      ]
    },
    {
      "cell_type": "code",
      "metadata": {
        "colab": {
          "base_uri": "https://localhost:8080/",
          "height": 312
        },
        "id": "8U4CkWyg20il",
        "cellView": "form",
        "outputId": "c354b517-ffe1-4b3f-d6be-d50b0fe8654e"
      },
      "source": [
        "#@title Grafica del MSE vs Window Size\n",
        "w1=np.array(w1)\n",
        "w2=np.array(w2)\n",
        "plt.title('Support Vector Regressor')\n",
        "plt.plot(n_range,w1+w2,color='orange')\n",
        "plt.plot(n_range,w1)\n",
        "plt.plot(n_range,w1-w2,color='orange')\n",
        "plt.fill_between(n_range,w1+w2,w1-w2,alpha=0.2,color='orange')\n",
        "plt.xlabel('Window Size')\n",
        "plt.ylabel('MSE')"
      ],
      "execution_count": 30,
      "outputs": [
        {
          "output_type": "execute_result",
          "data": {
            "text/plain": [
              "Text(0, 0.5, 'MSE')"
            ]
          },
          "metadata": {},
          "execution_count": 30
        },
        {
          "output_type": "display_data",
          "data": {
            "image/png": "[encoded data removed]",
            "text/plain": [
              "<Figure size 432x288 with 1 Axes>"
            ]
          },
          "metadata": {
            "needs_background": "light"
          }
        }
      ]
    },
    {
      "cell_type": "markdown",
      "metadata": {
        "id": "xXSWF07VKHYU"
      },
      "source": [
        "#Deep Neural Networks"
      ]
    },
    {
      "cell_type": "code",
      "metadata": {
        "id": "dlK2465ryvwG"
      },
      "source": [
        "from sklearn.neural_network import MLPRegressor"
      ],
      "execution_count": 31,
      "outputs": []
    },
    {
      "cell_type": "code",
      "metadata": {
        "colab": {
          "base_uri": "https://localhost:8080/"
        },
        "id": "u0MnjzLz00Vy",
        "outputId": "a909f7f7-f3c9-4038-c5c9-d86a00d68cf2"
      },
      "source": [
        "#@title Prediction with MLPregressor\n",
        "MSE_m = []\n",
        "MSE_std = []\n",
        "for n in n_range:\n",
        "  X=dwl[n].iloc[:,:-4]  #All data excepting the last two columns\n",
        "  y=dwl[n]['D_p']\n",
        "  X_train,X_test,y_train,y_test = train_test_split(X,y,test_size=0.2)\n",
        "  mlr=MLPRegressor(4,activation='tanh',solver='lbfgs',alpha=1e-5, random_state=1)\n",
        "  s = cross_val_score(mlr, X, y, cv=KFold(10, shuffle=True), scoring=make_scorer(mean_squared_error))\n",
        "  \n",
        "  mean_mse=np.mean(s)\n",
        "  sdev_mse=np.std(s)\n",
        "  MSE_m.append(mean_mse)\n",
        "  MSE_std.append(sdev_mse)\n",
        "\n",
        "  print(\"For window of size:\",n)\n",
        "  print (\"MSE: %.10f (+/- %.12f)\"%(mean_mse, sdev_mse))\n",
        "  print(\"\\n\")"
      ],
      "execution_count": 32,
      "outputs": [
        {
          "output_type": "stream",
          "name": "stdout",
          "text": [
            "For window of size: 3\n",
            "MSE: 0.0000830674 (+/- 0.000014271186)\n",
            "\n",
            "\n",
            "For window of size: 4\n",
            "MSE: 0.0000830697 (+/- 0.000012180728)\n",
            "\n",
            "\n",
            "For window of size: 5\n",
            "MSE: 0.0000831923 (+/- 0.000009767033)\n",
            "\n",
            "\n",
            "For window of size: 6\n",
            "MSE: 0.0000831319 (+/- 0.000008997648)\n",
            "\n",
            "\n",
            "For window of size: 7\n",
            "MSE: 0.0000832128 (+/- 0.000009601293)\n",
            "\n",
            "\n",
            "For window of size: 8\n",
            "MSE: 0.0000871545 (+/- 0.000014857651)\n",
            "\n",
            "\n"
          ]
        }
      ]
    },
    {
      "cell_type": "code",
      "metadata": {
        "colab": {
          "base_uri": "https://localhost:8080/",
          "height": 312
        },
        "id": "lKmG3NbSjYRo",
        "cellView": "form",
        "outputId": "9b4d2256-fece-4752-c7ab-a6634f2d396f"
      },
      "source": [
        "#@title Grafica del REM vs Window Size\n",
        "W1=np.array(MSE_m)\n",
        "w2=np.array(MSE_std)\n",
        "plt.title('MLP')\n",
        "plt.plot(n_range,w1+w2,color='orange')\n",
        "plt.plot(n_range,w1)\n",
        "plt.plot(n_range,w1-w2,color='orange')\n",
        "plt.fill_between(n_range,w1+w2,w1-w2,alpha=0.2,color='orange')\n",
        "plt.xlabel('Window Size')\n",
        "plt.ylabel('MSE')"
      ],
      "execution_count": 33,
      "outputs": [
        {
          "output_type": "execute_result",
          "data": {
            "text/plain": [
              "Text(0, 0.5, 'MSE')"
            ]
          },
          "metadata": {},
          "execution_count": 33
        },
        {
          "output_type": "display_data",
          "data": {
            "image/png": "[encoded data removed]",
            "text/plain": [
              "<Figure size 432x288 with 1 Axes>"
            ]
          },
          "metadata": {
            "needs_background": "light"
          }
        }
      ]
    },
    {
      "cell_type": "markdown",
      "metadata": {
        "id": "xr3AO193vnV_"
      },
      "source": [
        "##In the last part of the project we compare the best results previously obtained between them."
      ]
    },
    {
      "cell_type": "code",
      "metadata": {
        "id": "OFV5Tf7wJld6",
        "cellView": "form"
      },
      "source": [
        "#@title Definicion del metodo de comparacion (train =75%)\n",
        "def method(model,data,n):\n",
        "  train_index = int(len(data[n])*0.75)\n",
        "  train = np.random.permutation(data[n].iloc[:train_index,:-3].values)\n",
        "  #print(data[n].iloc[:train_index,:-3].head())\n",
        "  X_train = train[:,:-1]\n",
        "  y_train = train[:,-1]\n",
        "  X_test = data[n].iloc[train_index+1:,0:-4].values\n",
        "  y_test = data[n].loc[train_index+1:,\"D_p\"].values\n",
        "\n",
        "  d = data[n].iloc[train_index+1:,:].copy()\n",
        "\n",
        "  model.fit(X_train,y_train)\n",
        "  #Teniendo el valor de apertura, calcular el del cierre con el desplazamiento relativo\n",
        "  preds=model.predict(X_test)\n",
        "  #For plotting we must\n",
        "  d[\"Close_Pred\"] = preds*d.Open + d.Open\n",
        "  error_relativo = np.abs(d.Close.values-d.Close_Pred.values)/d.Close\n",
        "  print(\"Error Relativo Medio: \"+str(np.mean(error_relativo)))\n",
        "  print(\"Error relativo (Std): \"+str(np.std(error_relativo)))\n",
        "  plt.plot(data[n].Close, label = \"Real\")\n",
        "  plt.plot(d.Close_Pred, label = \"Pred\",alpha=.7)\n",
        "  plt.legend()\n",
        "  plt.show()\n"
      ],
      "execution_count": 34,
      "outputs": []
    },
    {
      "cell_type": "code",
      "metadata": {
        "colab": {
          "base_uri": "https://localhost:8080/",
          "height": 314
        },
        "id": "Xqwl8f_CAMCo",
        "cellView": "form",
        "outputId": "52b2f412-6b9b-4aad-ad95-fe5795f18932"
      },
      "source": [
        "#@title Decission Tree Regressor\n",
        "data = dwl\n",
        "n=5\n",
        "model = DecisionTreeRegressor()\n",
        "plt.title(\"Decission Tree\")\n",
        "method(model,data,n)"
      ],
      "execution_count": 35,
      "outputs": [
        {
          "output_type": "stream",
          "name": "stdout",
          "text": [
            "Error Relativo Medio: 0.010972898920920564\n",
            "Error relativo (Std): 0.013527514437085723\n"
          ]
        },
        {
          "output_type": "display_data",
          "data": {
            "image/png": "[encoded data removed]",
            "text/plain": [
              "<Figure size 432x288 with 1 Axes>"
            ]
          },
          "metadata": {
            "needs_background": "light"
          }
        }
      ]
    },
    {
      "cell_type": "code",
      "metadata": {
        "colab": {
          "base_uri": "https://localhost:8080/",
          "height": 314
        },
        "id": "oZQ__2cPAgB6",
        "cellView": "form",
        "outputId": "e11b1d96-c19e-4592-e80a-d04776be0fcd"
      },
      "source": [
        "#@title Random Forest Regressor\n",
        "n=6\n",
        "model = RandomForestRegressor()\n",
        "plt.title(\"Random Forest\")\n",
        "method(model,data,n)"
      ],
      "execution_count": 36,
      "outputs": [
        {
          "output_type": "stream",
          "name": "stdout",
          "text": [
            "Error Relativo Medio: 0.01102992615318886\n",
            "Error relativo (Std): 0.008517118390684563\n"
          ]
        },
        {
          "output_type": "display_data",
          "data": {
            "image/png": "[encoded data removed]",
            "text/plain": [
              "<Figure size 432x288 with 1 Axes>"
            ]
          },
          "metadata": {
            "needs_background": "light"
          }
        }
      ]
    },
    {
      "cell_type": "code",
      "metadata": {
        "colab": {
          "base_uri": "https://localhost:8080/",
          "height": 314
        },
        "id": "iPd-fXuPGhXY",
        "cellView": "form",
        "outputId": "1e9168a0-b98c-4a5f-cfab-7871e6d7af5e"
      },
      "source": [
        "#@title Support Vector Regressor\n",
        "model=SVR()\n",
        "plt.title(\"Support Vector Regressor\")\n",
        "method(model,data,8)"
      ],
      "execution_count": 37,
      "outputs": [
        {
          "output_type": "stream",
          "name": "stdout",
          "text": [
            "Error Relativo Medio: 0.012095404601547689\n",
            "Error relativo (Std): 0.007924719428765874\n"
          ]
        },
        {
          "output_type": "display_data",
          "data": {
            "image/png": "[encoded data removed]",
            "text/plain": [
              "<Figure size 432x288 with 1 Axes>"
            ]
          },
          "metadata": {
            "needs_background": "light"
          }
        }
      ]
    },
    {
      "cell_type": "code",
      "metadata": {
        "colab": {
          "base_uri": "https://localhost:8080/",
          "height": 314
        },
        "id": "0X8Uyc6siMtG",
        "cellView": "form",
        "outputId": "de55fc2a-9f50-4562-9737-318d028e8bba"
      },
      "source": [
        "#@title MLP Regressor\n",
        "n=4\n",
        "model =  mlr=MLPRegressor(4,activation='tanh',solver='lbfgs',alpha=1e-5, random_state=1)\n",
        "plt.title(\"MLP Regressor\")\n",
        "method(model,data,n)"
      ],
      "execution_count": 38,
      "outputs": [
        {
          "output_type": "stream",
          "name": "stdout",
          "text": [
            "Error Relativo Medio: 0.007110219093396308\n",
            "Error relativo (Std): 0.00827968371055134\n"
          ]
        },
        {
          "output_type": "display_data",
          "data": {
            "image/png": "[encoded data removed]",
            "text/plain": [
              "<Figure size 432x288 with 1 Axes>"
            ]
          },
          "metadata": {
            "needs_background": "light"
          }
        }
      ]
    }
  ]
}